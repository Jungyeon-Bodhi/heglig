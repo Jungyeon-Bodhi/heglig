{
 "cells": [
  {
   "cell_type": "code",
   "execution_count": 2,
   "id": "03ce04a2-30d8-4a08-8e6f-8c8553cd25f2",
   "metadata": {},
   "outputs": [],
   "source": [
    "import pandas as pd\n",
    "import numpy as np\n",
    "df = pd.read_excel('25-IOM-SD-1 - Raw Data.xlsx')"
   ]
  },
  {
   "cell_type": "code",
   "execution_count": null,
   "id": "afb3b54e-5878-404f-8aef-929377f554e9",
   "metadata": {},
   "outputs": [],
   "source": [
    "cols_new = ['1', '1-o', '2', '3', '4', '5', '6a', '6-1', '6-2', '6-3', '6-4', '6-5', '6-6', '6-7', '6-8', '6-o',\n",
    " '7', '8', '9', '9-o', '10', '11', '12', '13', '14', '15', '16', '16-o', '17', '17-1', '17-2', '17-3',\n",
    " '18', '19', '20', '21', '22', '23', '24', '25', '26', '27', '28', '29', '30', '31', '32', '32-o',\n",
    " '33', '34', '35', '36', '37', '38', '38-o', '39', '40', '41', '42', '43', '44', '45', '46', '47',\n",
    " '48', '49', '49-n', '49-p', '50', '51', '52', '53', '53-o', '54', '55', '56', '57', '58','59',\n",
    " '60', 'omit1', 'omit2', '_id', '_uuid', '_submission_time', '_validation_status', '_notes', '_status', '_submitted_by', '__version__', '_tags', '_index']\n",
    "# Specify new column names for data analysis (ensure they match the exact order of the existing columns)\n",
    "\n",
    "list_del_cols = ['6a', '17', 'omit1','omit2','_id','_uuid','_submission_time','_validation_status',\n",
    " '_notes','_status','_submitted_by','__version__', '_tags','_index']\n",
    "# Specify the columns to be excluded from the data analysis\n",
    "\n",
    "miss_col = ['1','3','4','5','7','10','11','12','13','14','15']\n",
    "# Specify all columns that apply to all respondents for missing value detection\n",
    "\n",
    "open_cols = ['1-o', '2', '6-o','9-o','16-o','32-o','38-o','49-n','49-p','53-o',]\n",
    "# Specify the open-ended columns (which will be saved in a separate Excel sheet and removed from the data frame)\n",
    "\n",
    "age_col = None\n",
    "# If we don't have age group in this dataset, please specify the age columns (as str)\n",
    "\n",
    "diss_cols = ['10','11','12','13','14','15']\n",
    "# If we have WG-SS questions in the dataset, please specify the columns (as list [])"
   ]
  },
  {
   "cell_type": "code",
   "execution_count": null,
   "id": "c5d25112-ac50-45dd-ac58-353223077489",
   "metadata": {},
   "outputs": [],
   "source": [
    "['1', '1-o', '2', '3', '4', '5', '6a', '6-1', '6-2', '6-3', '6-4', '6-5', '6-6', '6-7', '6-8', '6-o',\n",
    " '7', '8', '9', '9-o', '10', '11', '12', '13', '14', '15', '16', '16-o', '17', '17-1', '17-2', '17-3',\n",
    " '18', '19', '20', '21', '22', '23', '24', '25', '26', '27', '28', '29', '30', '31', '32', '32-o',\n",
    " '33', '34', '35', '36', '37', '38', '38-o', '39', '40', '41', '42', '43', '44', '45', '46', '47',\n",
    " '48', '49', '49-n', '49-p', '50', '51', '52', '53', '53-o', '54', '55', '56', '57', '58','59',\n",
    " '60', 'omit1', 'omit2', '_id', '_uuid', '_submission_time', '_validation_status', '_notes', '_status', '_submitted_by', '__version__', '_tags', '_index']"
   ]
  }
 ],
 "metadata": {
  "kernelspec": {
   "display_name": "Python [conda env:base] *",
   "language": "python",
   "name": "conda-base-py"
  },
  "language_info": {
   "codemirror_mode": {
    "name": "ipython",
    "version": 3
   },
   "file_extension": ".py",
   "mimetype": "text/x-python",
   "name": "python",
   "nbconvert_exporter": "python",
   "pygments_lexer": "ipython3",
   "version": "3.11.7"
  }
 },
 "nbformat": 4,
 "nbformat_minor": 5
}
